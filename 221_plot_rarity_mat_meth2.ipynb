{
 "cells": [
  {
   "cell_type": "markdown",
   "metadata": {},
   "source": [
    "Script to plot matrice of min NEPs over a range of durations-areas"
   ]
  },
  {
   "cell_type": "code",
   "execution_count": 1,
   "metadata": {},
   "outputs": [
    {
     "name": "stderr",
     "output_type": "stream",
     "text": [
      "R[write to console]: Le chargement a nécessité le package : kde1d\n",
      "\n"
     ]
    }
   ],
   "source": [
    "import sys\n",
    "import os\n",
    "import pickle\n",
    "import numpy as np\n",
    "import pandas as pd\n",
    "import geopandas as gpd\n",
    "import matplotlib.pyplot as plt\n",
    "import matplotlib as mpl\n",
    "import cartopy.crs as ccrs\n",
    "\n",
    "from matplotlib.lines import Line2D\n",
    "from matplotlib.colors import BoundaryNorm\n",
    "from matplotlib.ticker import MaxNLocator\n",
    "\n",
    "from config import *\n",
    "from utils import proj\n",
    "from functions import get_data_yr_SAFR\n",
    "from make_acc_nep_SAFR import load_nep_SAFR_sub2"
   ]
  },
  {
   "cell_type": "code",
   "execution_count": 2,
   "metadata": {},
   "outputs": [],
   "source": [
    "### CST ###\n",
    "\n",
    "reg = 'Fr'\n",
    "dataset = 'SAFRAN'\n",
    "ymin = 1958\n",
    "ymax = 2021\n",
    "years = np.arange(ymin, ymax+1, 1)\n",
    "per = str(ymin) + '-' + str(ymax)\n",
    "nbweeksmin = 4\n",
    "nbweeksmax = 166  # 52  # 260\n",
    "ts = str(nbweeksmin) + '-' + str(nbweeksmax)\n",
    "mm = np.arange(1, 12+1,1)\n",
    "typ = 'kernall'  # Method to compute NEPs\n",
    "sizes = {10: 5, 20: 2, 30: 1, 40: 1} #, 50: 1, 60: 1}  # domain side length (pixels) and NEP mat sub-sampling factor\n",
    "prop = 0.33  # proportion du côté de la fenêtre sans recouvrement (dans les deux directions)\n",
    "th_n = 0.75  # minimum proportion of land grid cell for the sub-domain to be considered\n",
    "projmap = ccrs.LambertConformal(central_longitude=2.337229, central_latitude=46.8, false_easting=600000., false_northing=2200000.)"
   ]
  },
  {
   "cell_type": "code",
   "execution_count": 3,
   "metadata": {},
   "outputs": [],
   "source": [
    "# OUTDIR\n",
    "\n",
    "if not os.path.isdir(DATADIR + '/' + reg):\n",
    "    os.mkdir(DATADIR + '/' + reg)\n",
    "datadir = DATADIR + '/' + reg\n",
    "\n",
    "if not os.path.isdir(datadir + '/' + dataset):\n",
    "    os.mkdir(datadir + '/' + dataset)\n",
    "datadir = datadir + '/' + dataset\n",
    "\n",
    "if not os.path.isdir(datadir + '/' + per):\n",
    "    os.mkdir(datadir + '/' + per)\n",
    "datadir = datadir + '/' + per\n",
    "\n",
    "\n",
    "if not os.path.isdir(FIGDIR + '/' + reg):\n",
    "    os.mkdir(FIGDIR + '/' + reg)\n",
    "figdir = FIGDIR + '/' + reg\n",
    "\n",
    "if not os.path.isdir(figdir + '/' + dataset):\n",
    "    os.mkdir(figdir + '/' + dataset)\n",
    "figdir = figdir + '/' + dataset\n",
    "\n",
    "if not os.path.isdir(figdir + '/' + per):\n",
    "    os.mkdir(figdir + '/' + per)\n",
    "figdir = figdir + '/' + per"
   ]
  },
  {
   "cell_type": "code",
   "execution_count": 7,
   "metadata": {},
   "outputs": [
    {
     "data": {
      "text/plain": [
       "'/home/guillaumechagnaud/TRAVAIL/POSTDOC/IGE-Secheresse/work/output/figures/Fr/SAFRAN/1958-2021'"
      ]
     },
     "execution_count": 7,
     "metadata": {},
     "output_type": "execute_result"
    }
   ],
   "source": [
    "figdir"
   ]
  },
  {
   "cell_type": "code",
   "execution_count": 5,
   "metadata": {},
   "outputs": [
    {
     "name": "stdout",
     "output_type": "stream",
     "text": [
      "80x80 : 160x160 : 240x240 : 320x320 : "
     ]
    }
   ],
   "source": [
    "if not os.path.isdir(datadir + '/nep_multi-domain_meth2'):\n",
    "    os.mkdir(datadir + '/nep_multi-domain_meth2')\n",
    "datadir_nep = datadir + '/nep_multi-domain_meth2'\n",
    "\n",
    "# Get minimum NEPs and location for each size\n",
    "nep_min_sizes = {}\n",
    "loc_min_sizes = {}\n",
    "\n",
    "for size, fac in sizes.items():\n",
    "    size_ = str(int(size*res/1000)) + 'x' + str(int(size*res/1000))   # sub-domain size (km x km)\n",
    "\n",
    "    print(size_, end=' : ', flush=True)\n",
    "\n",
    "    data = load_nep_SAFR_sub2(reg, ymin, ymax, typ, nbweeksmin, nbweeksmax, size=size)\n",
    "    nep_min_sizes[size] = data[0]  # matrix dates x timescales with nep values\n",
    "    loc_min_sizes[size] = data[1]  # matrix dates x timescales with indices of sub-domain with min\n",
    "\n",
    "\n",
    "    #~ Save\n",
    "\n",
    "    datafile_nep_min = datadir_nep + '/' + ts + '_' + size_\n",
    "\n",
    "    #with open(datafile_nep_min, 'wb') as pics:\n",
    "    #    pickle.dump(obj=nep_min_size, file=pics)"
   ]
  },
  {
   "cell_type": "code",
   "execution_count": 8,
   "metadata": {},
   "outputs": [
    {
     "data": {
      "text/plain": [
       "(                 4         5         6         7         8         9    \\\n",
       " 1958-08-01       NaN       NaN       NaN       NaN       NaN       NaN   \n",
       " 1958-08-02       NaN       NaN       NaN       NaN       NaN       NaN   \n",
       " 1958-08-03       NaN       NaN       NaN       NaN       NaN       NaN   \n",
       " 1958-08-04       NaN       NaN       NaN       NaN       NaN       NaN   \n",
       " 1958-08-05       NaN       NaN       NaN       NaN       NaN       NaN   \n",
       " ...              ...       ...       ...       ...       ...       ...   \n",
       " 2022-07-27  0.108353  0.375745  0.358852  0.234413  0.231698  0.148860   \n",
       " 2022-07-28  0.084967  0.273743  0.353834  0.227156  0.221803  0.148544   \n",
       " 2022-07-29  0.082342  0.155325  0.379907  0.247338  0.233657  0.161302   \n",
       " 2022-07-30  0.091260  0.127662  0.395833  0.260743  0.226961  0.170196   \n",
       " 2022-07-31  0.089833  0.084307  0.394385  0.260678  0.202017  0.169309   \n",
       " \n",
       "                  10        11        12        13   ...       157       158  \\\n",
       " 1958-08-01       NaN       NaN       NaN       NaN  ...       NaN       NaN   \n",
       " 1958-08-02       NaN       NaN       NaN       NaN  ...       NaN       NaN   \n",
       " 1958-08-03       NaN       NaN       NaN       NaN  ...       NaN       NaN   \n",
       " 1958-08-04       NaN       NaN       NaN       NaN  ...       NaN       NaN   \n",
       " 1958-08-05       NaN       NaN       NaN       NaN  ...       NaN       NaN   \n",
       " ...              ...       ...       ...       ...  ...       ...       ...   \n",
       " 2022-07-27  0.100511  0.059463  0.056082  0.047507  ...  0.617951  0.598809   \n",
       " 2022-07-28  0.099575  0.059412  0.042487  0.047339  ...  0.617747  0.598361   \n",
       " 2022-07-29  0.108902  0.064607  0.046303  0.051446  ...  0.607621  0.597335   \n",
       " 2022-07-30  0.115159  0.067368  0.048736  0.052796  ...  0.589944  0.596566   \n",
       " 2022-07-31  0.115061  0.066660  0.044032  0.052783  ...  0.589242  0.594888   \n",
       " \n",
       "                  159       160       161       162       163       164  \\\n",
       " 1958-08-01       NaN       NaN       NaN       NaN       NaN       NaN   \n",
       " 1958-08-02       NaN       NaN       NaN       NaN       NaN       NaN   \n",
       " 1958-08-03       NaN       NaN       NaN       NaN       NaN       NaN   \n",
       " 1958-08-04       NaN       NaN       NaN       NaN       NaN       NaN   \n",
       " 1958-08-05       NaN       NaN       NaN       NaN       NaN       NaN   \n",
       " ...              ...       ...       ...       ...       ...       ...   \n",
       " 2022-07-27  0.575190  0.554418  0.530749  0.516220  0.511330  0.536506   \n",
       " 2022-07-28  0.575141  0.554401  0.530748  0.511732  0.507292  0.531880   \n",
       " 2022-07-29  0.575181  0.554471  0.530816  0.510343  0.501197  0.515640   \n",
       " 2022-07-30  0.575280  0.552904  0.530913  0.508829  0.493690  0.514649   \n",
       " 2022-07-31  0.575278  0.550661  0.530851  0.508806  0.493451  0.511729   \n",
       " \n",
       "                  165       166  \n",
       " 1958-08-01       NaN       NaN  \n",
       " 1958-08-02       NaN       NaN  \n",
       " 1958-08-03       NaN       NaN  \n",
       " 1958-08-04       NaN       NaN  \n",
       " 1958-08-05       NaN       NaN  \n",
       " ...              ...       ...  \n",
       " 2022-07-27  0.549201  0.535255  \n",
       " 2022-07-28  0.548777  0.535172  \n",
       " 2022-07-29  0.548789  0.533357  \n",
       " 2022-07-30  0.548883  0.531359  \n",
       " 2022-07-31  0.548880  0.530069  \n",
       " \n",
       " [23376 rows x 163 columns],\n",
       " array([[ 0,  0,  0, ...,  0,  0,  0],\n",
       "        [ 0,  0,  0, ...,  0,  0,  0],\n",
       "        [ 0,  0,  0, ...,  0,  0,  0],\n",
       "        ...,\n",
       "        [21, 21, 21, ..., 11, 11, 11],\n",
       "        [22,  0, 21, ..., 11, 11, 11],\n",
       "        [22, 21,  6, ..., 11, 11, 11]]))"
      ]
     },
     "execution_count": 8,
     "metadata": {},
     "output_type": "execute_result"
    }
   ],
   "source": [
    "data"
   ]
  },
  {
   "cell_type": "code",
   "execution_count": 6,
   "metadata": {},
   "outputs": [
    {
     "name": "stdout",
     "output_type": "stream",
     "text": [
      "1958 : 1959 : 1960 : 1961 : 1962 : 1963 : 1964 : 1965 : 1966 : 1967 : 1968 : 1969 : 1970 : 1971 : 1972 : 1973 : 1974 : 1975 : 1976 : 1977 : 1978 : 1979 : 1980 : 1981 : 1982 : 1983 : 1984 : 1985 : 1986 : 1987 : 1988 : 1989 : 1990 : 1991 : 1992 : 1993 : 1994 : 1995 : 1996 : 1997 : 1998 : 1999 : 2000 : 2001 : 2002 : 2003 : 2004 : 2005 : 2006 : 2007 : 2008 : 2009 : 2010 : 2011 : 2012 : 2013 : 2014 : 2015 : 2016 : 2017 : 2018 : 2019 : 2020 : 2021 : "
     ]
    },
    {
     "data": {
      "text/plain": [
       "'/home/guillaumechagnaud/TRAVAIL/POSTDOC/IGE-Secheresse/work/output/figures/Fr/SAFRAN/1958-2021'"
      ]
     },
     "execution_count": 6,
     "metadata": {},
     "output_type": "execute_result"
    }
   ],
   "source": [
    "# Plot matrix of NEP (duration x area)\n",
    "\n",
    "cmap = plt.cm.get_cmap('viridis_r')\n",
    "\n",
    "ncols = [0., 0.01, 0.05, 0.1, 0.2, 0.3, 0.4, 0.5, 0.75, 1.]\n",
    "norm = BoundaryNorm(ncols, ncolors=cmap.N, clip=True)\n",
    "\n",
    "xtlbs = np.arange(nbweeksmin, nbweeksmax+4, 4)\n",
    "ytlbs = [int(round(size*res/1000, 0)) for size in sizes]\n",
    "xtcks = np.arange(0, nbweeksmax-nbweeksmin+1, 4)\n",
    "ytcks = np.arange(0.5, len(sizes), 1)\n",
    "\n",
    "\n",
    "if not os.path.isdir(figdir + '/nep_multi-domain_meth2'):\n",
    "    os.mkdir(figdir + '/nep_multi-domain_meth2')\n",
    "figdir_nep = figdir + '/nep_multi-domain_meth2'\n",
    "\n",
    "\n",
    "for y in years:\n",
    "    print(y, end=' : ', flush=True)\n",
    "\n",
    "    fig, ax = plt.subplots(figsize=(7.5, 5.5))\n",
    "    \n",
    "    plt.subplots_adjust(bottom=0.15, top=0.9)\n",
    "    \n",
    "    nep_mins = []\n",
    "    for size in sizes:\n",
    "        # SELECT SAFRAN HYDROLOGICAL YEARS: 1/8/Y - 31/7/Y+1 !!!!!!!\n",
    "        nep_min_size = nep_min_sizes[size][nep_min_sizes[size].index.year == y].min(axis=0)\n",
    "        nep_mins.append(nep_min_size)\n",
    "        \n",
    "        #sys.exit()\n",
    "\n",
    "    nep_mins = np.array(nep_mins)\n",
    "    \n",
    "    ax.pcolor(nep_mins, norm=norm, cmap=cmap)\n",
    "\n",
    "    ax.set_xticks(xtcks)\n",
    "    ax.set_yticks(ytcks)\n",
    "    ax.set_xticklabels(xtlbs, rotation=60)\n",
    "    ax.set_yticklabels(ytlbs, rotation=60)\n",
    "    ax.set_xlabel('Accumulation period [weeks]')\n",
    "    ax.set_ylabel('Area side length [km]')\n",
    "    ax.set_title(y)\n",
    "    \n",
    "    cb = plt.colorbar(mpl.cm.ScalarMappable(norm=norm, cmap=cmap), orientation='horizontal', label='NEP', pad=0.25)\n",
    "    cb.set_ticks(ncols)\n",
    "    cb.set_ticklabels(ncols)\n",
    "    \n",
    "    figfile = figdir_nep + '/' + str(y) + '.pdf'\n",
    "    #fig.savefig(figfile)\n",
    "    \n",
    "    plt.close()\n",
    "\n",
    "figdir"
   ]
  }
 ],
 "metadata": {
  "kernelspec": {
   "display_name": "Python [conda env:cmip6] *",
   "language": "python",
   "name": "conda-env-cmip6-py"
  },
  "language_info": {
   "codemirror_mode": {
    "name": "ipython",
    "version": 3
   },
   "file_extension": ".py",
   "mimetype": "text/x-python",
   "name": "python",
   "nbconvert_exporter": "python",
   "pygments_lexer": "ipython3",
   "version": "3.8.5"
  }
 },
 "nbformat": 4,
 "nbformat_minor": 4
}
